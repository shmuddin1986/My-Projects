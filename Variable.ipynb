{
 "cells": [
  {
   "cell_type": "code",
   "execution_count": 1,
   "metadata": {},
   "outputs": [
    {
     "name": "stdout",
     "output_type": "stream",
     "text": [
      "Shahbaaz\n"
     ]
    }
   ],
   "source": [
    "first_name = \"Shahbaaz\"\n",
    "\n",
    "print (first_name)"
   ]
  },
  {
   "cell_type": "code",
   "execution_count": 2,
   "metadata": {},
   "outputs": [
    {
     "name": "stdout",
     "output_type": "stream",
     "text": [
      "Shahbaaz Mohiuddin\n"
     ]
    }
   ],
   "source": [
    "full_name = 'shahbaaz mohiuddin'\n",
    "\n",
    "print (full_name.title())"
   ]
  },
  {
   "cell_type": "code",
   "execution_count": 3,
   "metadata": {},
   "outputs": [
    {
     "name": "stdout",
     "output_type": "stream",
     "text": [
      "SHAHBAAZ MOHIUDDIN\n"
     ]
    }
   ],
   "source": [
    "full_name = 'shahbaaz mohiuddin'\n",
    "\n",
    "print (full_name.upper())"
   ]
  },
  {
   "cell_type": "code",
   "execution_count": 4,
   "metadata": {},
   "outputs": [
    {
     "name": "stdout",
     "output_type": "stream",
     "text": [
      "shahbaaz mohiuddin\n"
     ]
    }
   ],
   "source": [
    "full_name = 'shahbaaz mohiuddin'\n",
    "\n",
    "print (full_name.lower())"
   ]
  },
  {
   "cell_type": "code",
   "execution_count": null,
   "metadata": {},
   "outputs": [],
   "source": []
  }
 ],
 "metadata": {
  "kernelspec": {
   "display_name": "Python 3",
   "language": "python",
   "name": "python3"
  },
  "language_info": {
   "codemirror_mode": {
    "name": "ipython",
    "version": 3
   },
   "file_extension": ".py",
   "mimetype": "text/x-python",
   "name": "python",
   "nbconvert_exporter": "python",
   "pygments_lexer": "ipython3",
   "version": "3.7.6"
  }
 },
 "nbformat": 4,
 "nbformat_minor": 4
}
