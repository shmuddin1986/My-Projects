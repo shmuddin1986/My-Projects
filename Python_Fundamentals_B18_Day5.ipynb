{
 "cells": [
  {
   "cell_type": "code",
   "execution_count": null,
   "metadata": {},
   "outputs": [],
   "source": [
    "Python_Fundamentals_B18_Day5\n",
    "\n",
    "###Introduction to \"for looping\" statement"
   ]
  },
  {
   "cell_type": "code",
   "execution_count": 3,
   "metadata": {},
   "outputs": [
    {
     "name": "stdout",
     "output_type": "stream",
     "text": [
      "['devi', 'naresh', 'satya', 'neha', 'vijayalaxmi', 'malveeca', 'adil', 'amit', 'mahesh']\n"
     ]
    }
   ],
   "source": [
    "my_students = ['devi','naresh','satya','neha','vijayalaxmi','malveeca','adil','amit','mahesh']\n",
    "print(my_students)"
   ]
  },
  {
   "cell_type": "code",
   "execution_count": null,
   "metadata": {},
   "outputs": [],
   "source": []
  },
  {
   "cell_type": "code",
   "execution_count": null,
   "metadata": {},
   "outputs": [],
   "source": [
    "General syntax :\n",
    "#tempvar(anyname) in my_students: #here my_students is main variable \n",
    "\tprint(tempvar) #indentation"
   ]
  },
  {
   "cell_type": "code",
   "execution_count": 4,
   "metadata": {},
   "outputs": [
    {
     "name": "stdout",
     "output_type": "stream",
     "text": [
      "devi\n",
      "naresh\n",
      "satya\n",
      "neha\n",
      "vijayalaxmi\n",
      "malveeca\n",
      "adil\n",
      "amit\n",
      "mahesh\n"
     ]
    }
   ],
   "source": [
    "for students in my_students:\n",
    "    print(students)"
   ]
  },
  {
   "cell_type": "code",
   "execution_count": 5,
   "metadata": {},
   "outputs": [
    {
     "name": "stdout",
     "output_type": "stream",
     "text": [
      "keep up the good work, Devi\n"
     ]
    }
   ],
   "source": [
    "print (f\"keep up the good work, {my_students[0].title()}\")"
   ]
  },
  {
   "cell_type": "code",
   "execution_count": 8,
   "metadata": {
    "scrolled": true
   },
   "outputs": [
    {
     "name": "stdout",
     "output_type": "stream",
     "text": [
      "keep up the good work, Devi\n",
      "You are doing fantastic, Devi.\n",
      "\n",
      "keep up the good work, Naresh\n",
      "You are doing fantastic, Naresh.\n",
      "\n",
      "keep up the good work, Satya\n",
      "You are doing fantastic, Satya.\n",
      "\n",
      "keep up the good work, Neha\n",
      "You are doing fantastic, Neha.\n",
      "\n",
      "keep up the good work, Vijayalaxmi\n",
      "You are doing fantastic, Vijayalaxmi.\n",
      "\n",
      "keep up the good work, Malveeca\n",
      "You are doing fantastic, Malveeca.\n",
      "\n",
      "keep up the good work, Adil\n",
      "You are doing fantastic, Adil.\n",
      "\n",
      "keep up the good work, Amit\n",
      "You are doing fantastic, Amit.\n",
      "\n",
      "keep up the good work, Mahesh\n",
      "You are doing fantastic, Mahesh.\n",
      "\n"
     ]
    }
   ],
   "source": [
    "for students in my_students:\n",
    "    print(f\"keep up the good work, {students.title()}\")\n",
    "    print(f\"You are doing fantastic, {students.title()}.\\n\")"
   ]
  },
  {
   "cell_type": "code",
   "execution_count": null,
   "metadata": {},
   "outputs": [],
   "source": [
    "###Introduction to if condition"
   ]
  },
  {
   "cell_type": "code",
   "execution_count": 9,
   "metadata": {},
   "outputs": [],
   "source": [
    "cars=['audi','maruti','toyota','benz','bmw']\n",
    "      "
   ]
  },
  {
   "cell_type": "code",
   "execution_count": null,
   "metadata": {},
   "outputs": [],
   "source": [
    "### Requirement is to print bmw in upper and other data in title"
   ]
  },
  {
   "cell_type": "code",
   "execution_count": 10,
   "metadata": {},
   "outputs": [
    {
     "name": "stdout",
     "output_type": "stream",
     "text": [
      "Audi\n",
      "Maruti\n",
      "Toyota\n",
      "Benz\n",
      "BMW\n"
     ]
    }
   ],
   "source": [
    "for car in cars: #for loop syntax\n",
    "    if car == 'bmw': # equality testing\n",
    "        print(car.upper())\n",
    "    else:\n",
    "        print(car.title())"
   ]
  },
  {
   "cell_type": "code",
   "execution_count": null,
   "metadata": {},
   "outputs": [],
   "source": []
  },
  {
   "cell_type": "code",
   "execution_count": null,
   "metadata": {},
   "outputs": [],
   "source": []
  }
 ],
 "metadata": {
  "kernelspec": {
   "display_name": "Python 3",
   "language": "python",
   "name": "python3"
  },
  "language_info": {
   "codemirror_mode": {
    "name": "ipython",
    "version": 3
   },
   "file_extension": ".py",
   "mimetype": "text/x-python",
   "name": "python",
   "nbconvert_exporter": "python",
   "pygments_lexer": "ipython3",
   "version": "3.7.6"
  }
 },
 "nbformat": 4,
 "nbformat_minor": 4
}
